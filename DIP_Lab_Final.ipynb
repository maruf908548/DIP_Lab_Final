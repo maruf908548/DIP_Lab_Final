{
  "nbformat": 4,
  "nbformat_minor": 0,
  "metadata": {
    "colab": {
      "provenance": [],
      "authorship_tag": "ABX9TyO6n0tTuwLrf5z0LESGPHE4",
      "include_colab_link": true
    },
    "kernelspec": {
      "name": "python3",
      "display_name": "Python 3"
    },
    "language_info": {
      "name": "python"
    }
  },
  "cells": [
    {
      "cell_type": "markdown",
      "metadata": {
        "id": "view-in-github",
        "colab_type": "text"
      },
      "source": [
        "<a href=\"https://colab.research.google.com/github/maruf908548/DIP_Lab_Final/blob/main/DIP_Lab_Final.ipynb\" target=\"_parent\"><img src=\"https://colab.research.google.com/assets/colab-badge.svg\" alt=\"Open In Colab\"/></a>"
      ]
    },
    {
      "cell_type": "code",
      "source": [
        "import cv2\n",
        "import numpy as np\n",
        "import matplotlib.pyplot as plt\n",
        "from google.colab import drive"
      ],
      "metadata": {
        "id": "jDoMHd9NSw2v"
      },
      "execution_count": 1,
      "outputs": []
    },
    {
      "cell_type": "code",
      "source": [
        "drive.mount('/content/drive')"
      ],
      "metadata": {
        "colab": {
          "base_uri": "https://localhost:8080/"
        },
        "id": "O-zodacrXLcM",
        "outputId": "7dd6ae88-0c1f-4b9a-9cdc-ac9e8d1f3034"
      },
      "execution_count": 2,
      "outputs": [
        {
          "output_type": "stream",
          "name": "stdout",
          "text": [
            "Mounted at /content/drive\n"
          ]
        }
      ]
    },
    {
      "cell_type": "code",
      "source": [
        "# Task 1: Upload and extract details from DIP_Lab_task_01.png\n",
        "img1_path = '/content/drive/MyDrive/DIP Lab Resources/Assignment/DIP_Lab_task_01.png'\n",
        "img1 = cv2.imread(img1_path,cv2.IMREAD_GRAYSCALE)"
      ],
      "metadata": {
        "id": "j4P_YfyZXUXR"
      },
      "execution_count": 3,
      "outputs": []
    },
    {
      "cell_type": "code",
      "source": [
        "dimensions = img1.shape\n",
        "intensity_values, frequency_distribution = np.unique(img1, return_counts=True)\n",
        "intensity_range = (img1.min(), img1.max())\n",
        "\n",
        "print(\"Image Dimensions:\", dimensions)\n",
        "print(\"Frequency Distribution of Intensities:\", dict(zip(intensity_values, frequency_distribution)))\n",
        "print(\"Intensity Range:\", intensity_range)"
      ],
      "metadata": {
        "colab": {
          "base_uri": "https://localhost:8080/"
        },
        "id": "ColMZP_ebcdf",
        "outputId": "bd84fa1e-4996-4317-c06f-00f8aa49c7a7"
      },
      "execution_count": 4,
      "outputs": [
        {
          "output_type": "stream",
          "name": "stdout",
          "text": [
            "Image Dimensions: (225, 225)\n",
            "Frequency Distribution of Intensities: {5: 1, 31: 1, 35: 1, 37: 1, 45: 3, 47: 1, 48: 2, 51: 1, 52: 1, 57: 2, 64: 1, 66: 2, 67: 2, 68: 3, 69: 3, 71: 2, 72: 2, 73: 3, 74: 4, 75: 4, 76: 7, 77: 10, 78: 10, 79: 10, 80: 15, 81: 16, 82: 14, 83: 26, 84: 22, 85: 9, 86: 15, 87: 28, 88: 17, 89: 15, 90: 24, 91: 10, 92: 13, 93: 19, 94: 17, 95: 20, 96: 21, 97: 16, 98: 17, 99: 21, 100: 30, 101: 27, 102: 23, 103: 30, 104: 29, 105: 39, 106: 40, 107: 33, 108: 42, 109: 54, 110: 49, 111: 45, 112: 51, 113: 50, 114: 48, 115: 45, 116: 53, 117: 44, 118: 55, 119: 62, 120: 60, 121: 55, 122: 50, 123: 48, 124: 46, 125: 57, 126: 45, 127: 56, 128: 60, 129: 55, 130: 59, 131: 65, 132: 69, 133: 61, 134: 89, 135: 74, 136: 51, 137: 62, 138: 61, 139: 71, 140: 70, 141: 73, 142: 66, 143: 82, 144: 71, 145: 79, 146: 74, 147: 69, 148: 87, 149: 63, 150: 78, 151: 72, 152: 72, 153: 81, 154: 96, 155: 76, 156: 74, 157: 79, 158: 89, 159: 76, 160: 105, 161: 92, 162: 80, 163: 79, 164: 97, 165: 97, 166: 90, 167: 90, 168: 95, 169: 112, 170: 108, 171: 124, 172: 120, 173: 105, 174: 132, 175: 132, 176: 112, 177: 126, 178: 137, 179: 118, 180: 120, 181: 131, 182: 124, 183: 109, 184: 113, 185: 130, 186: 126, 187: 120, 188: 113, 189: 104, 190: 113, 191: 91, 192: 99, 193: 109, 194: 99, 195: 103, 196: 121, 197: 121, 198: 111, 199: 120, 200: 127, 201: 130, 202: 124, 203: 153, 204: 122, 205: 140, 206: 143, 207: 153, 208: 140, 209: 156, 210: 131, 211: 155, 212: 153, 213: 169, 214: 181, 215: 202, 216: 216, 217: 239, 218: 305, 219: 261, 220: 269, 221: 313, 222: 460, 223: 413, 224: 666, 225: 349, 226: 411, 227: 440, 228: 498, 229: 531, 230: 455, 231: 297, 232: 400, 233: 186, 234: 153, 235: 172, 236: 140, 237: 176, 238: 179, 239: 213, 240: 241, 241: 229, 242: 233, 243: 234, 244: 234, 245: 258, 246: 276, 247: 341, 248: 427, 249: 568, 250: 587, 251: 855, 252: 1124, 253: 3697, 254: 6404, 255: 16366}\n",
            "Intensity Range: (5, 255)\n"
          ]
        }
      ]
    }
  ]
}